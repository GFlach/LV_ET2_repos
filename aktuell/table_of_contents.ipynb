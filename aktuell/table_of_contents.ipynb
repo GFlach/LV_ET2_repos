{
 "cells": [
  {
   "cell_type": "markdown",
   "metadata": {},
   "source": [
    "<center><h1>Material ET2</h1></center>\n",
    "<p>\n",
    " <p>\n",
    "\n",
    "## Inhaltsverzeichnis\n",
    "\n",
    "[**1 Aufgaben**](et2_aufgaben.ipynb)"
   ]
  }
 ],
 "metadata": {
  "kernelspec": {
   "display_name": "Python 3",
   "language": "python",
   "name": "python3"
  },
  "language_info": {
   "codemirror_mode": {
    "name": "ipython",
    "version": 3
   },
   "file_extension": ".py",
   "mimetype": "text/x-python",
   "name": "python",
   "nbconvert_exporter": "python",
   "pygments_lexer": "ipython3",
   "version": "3.7.1"
  }
 },
 "nbformat": 4,
 "nbformat_minor": 1
}
