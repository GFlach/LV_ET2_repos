{
 "cells": [
  {
   "cell_type": "code",
   "execution_count": null,
   "metadata": {},
   "outputs": [],
   "source": [
    "import numpy as np\n",
    "import matplotlib.pyplot as plt\n",
    "%pylab inline"
   ]
  },
  {
   "cell_type": "markdown",
   "metadata": {
    "collapsed": true
   },
   "source": [
    "### Bodediagramm"
   ]
  },
  {
   "cell_type": "code",
   "execution_count": null,
   "metadata": {},
   "outputs": [],
   "source": [
    "Omega = np.arange(0.1, 10, 0.1)\n",
    "Q = 1.25\n",
    "F1 = 20 * np.log(1/(np.sqrt(1+ Omega**2/Q**2)))\n",
    "F2 = 20 * np.log(1/Omega)\n",
    "F3 = 20 * np.log(1/(np.sqrt((1/Omega - Omega)**2 + Q**2)))\n",
    "plt.figure(figsize=(10,10))\n",
    "plt.plot(np.log(Omega), F1, label = 'Tiefpass')\n",
    "plt.plot(np.log(Omega), F2, label = 'Faktor')\n",
    "plt.plot(np.log(Omega), F3, label = 'Schwingkreis')\n",
    "plt.plot(np.log(Omega), F1 + F2 + F3, label = 'Tchebychew-Filter')\n",
    "plt.xlabel('log($\\Omega$)')\n",
    "plt.ylabel('20 log(F)')\n",
    "plt.title('Aufgabe 16')\n",
    "plt.legend()\n",
    "plt.grid()\n",
    "plt.savefig('images/a16_loes.jpg')"
   ]
  }
 ],
 "metadata": {
  "kernelspec": {
   "display_name": "Python 3",
   "language": "python",
   "name": "python3"
  },
  "language_info": {
   "codemirror_mode": {
    "name": "ipython",
    "version": 3
   },
   "file_extension": ".py",
   "mimetype": "text/x-python",
   "name": "python",
   "nbconvert_exporter": "python",
   "pygments_lexer": "ipython3",
   "version": "3.7.1"
  }
 },
 "nbformat": 4,
 "nbformat_minor": 1
}
