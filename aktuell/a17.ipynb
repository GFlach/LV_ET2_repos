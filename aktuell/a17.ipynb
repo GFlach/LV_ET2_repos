{
 "cells": [
  {
   "cell_type": "code",
   "execution_count": null,
   "metadata": {},
   "outputs": [],
   "source": [
    "import numpy as np\n",
    "import matplotlib.pyplot as plt\n",
    "%pylab inline"
   ]
  },
  {
   "cell_type": "markdown",
   "metadata": {
    "collapsed": true
   },
   "source": [
    "### Aufgabe 17"
   ]
  },
  {
   "cell_type": "code",
   "execution_count": null,
   "metadata": {},
   "outputs": [],
   "source": [
    "R = 600\n",
    "C = 2.8 * 10**(-9)\n",
    "L = 1 * 10**(-3)\n",
    "\n",
    "omega = np.arange(1, 1000000, 100)\n",
    "rz = R * R + L/C\n",
    "im_z = omega * L * R - R/(omega * C)\n",
    "rn = R + R\n",
    "im_n = omega * L - 1/(omega * C)\n",
    "\n",
    "Z = np.sqrt(rz**2 + im_z**2)\n",
    "N = np.sqrt(rn**2 + im_n**2)\n",
    "\n",
    "F = Z/N\n",
    "\n",
    "phi = np.arctan(im_z/rz) - np.arctan(im_n/rn)\n",
    "plt.figure(figsize = (12, 6))\n",
    "subplot(121)\n",
    "plt.plot(omega, F)\n",
    "plt.axis([0, 100000, 0, 650])\n",
    "plt.grid()\n",
    "plt.title('Amplitudengang')\n",
    "plt.xlabel('f in Hz')\n",
    "subplot(122)\n",
    "plt.plot(omega, phi)\n",
    "plt.axis([0, 100000, -np.pi/2, np.pi/2])\n",
    "plt.grid()\n",
    "plt.title('Phasengang')\n",
    "plt.xlabel('f in Hz')\n",
    "plt.savefig('images/a17_loes1.jpg')"
   ]
  },
  {
   "cell_type": "code",
   "execution_count": null,
   "metadata": {},
   "outputs": [],
   "source": [
    "omega = np.logspace(1, 7)\n",
    "#omega = np.arange(0, 100000, 10000)\n",
    "re1 = (omega**2 * C**2 * R) /(1 + (omega * C * R)**2)\n",
    "im1 = (omega * C) / (1 + (omega * C * R)**2)\n",
    "plt.figure(figsize=(10,10))\n",
    "plt.plot(re1,im1, '--o')\n",
    "o_sel = 38\n",
    "x1 = (omega[o_sel]**2 * C**2 * R) /(1 + (omega[o_sel] * C * R)**2)\n",
    "x2 = (omega[o_sel]**2 * C**2 * R) /(1 + (omega[o_sel] * C * R)**2)\n",
    "y1 = 0\n",
    "y2 = (omega[o_sel] * C) / (1 + (omega[o_sel] * C * R)**2)\n",
    "plt.plot([x1, x2],[y1, y2])\n",
    "re2 = R /(R**2 + (omega * L)**2)\n",
    "im2 = -(omega * L) / (R**2 + (omega * L)**2)\n",
    "plt.plot(re1, im2, '--ro')\n",
    "x1 = R /(R**2 + (omega[o_sel] * L)**2)\n",
    "x2 = R /(R**2 + (omega[o_sel] * L)**2)\n",
    "y1 = 0\n",
    "y2 = -(omega[o_sel] * L) / (R**2 + (omega[o_sel] * L)**2)\n",
    "plt.plot([x1, x2],[y1, y2])\n",
    "plt.stem(re1 + re2, im1 + im2)\n",
    "plt.title('Ortskurve des Leitwertes')\n",
    "plt.xlabel('Realteil')\n",
    "plt.ylabel('Imaginärteil')\n",
    "plt.grid()\n",
    "plt.savefig('images/a17_loes2.jpg')"
   ]
  }
 ],
 "metadata": {
  "kernelspec": {
   "display_name": "Python 3",
   "language": "python",
   "name": "python3"
  },
  "language_info": {
   "codemirror_mode": {
    "name": "ipython",
    "version": 3
   },
   "file_extension": ".py",
   "mimetype": "text/x-python",
   "name": "python",
   "nbconvert_exporter": "python",
   "pygments_lexer": "ipython3",
   "version": "3.7.1"
  }
 },
 "nbformat": 4,
 "nbformat_minor": 1
}
